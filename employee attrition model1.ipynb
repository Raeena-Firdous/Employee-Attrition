{
 "cells": [
  {
   "cell_type": "markdown",
   "id": "916072bf",
   "metadata": {},
   "source": [
    "# MODEL BUILDING"
   ]
  },
  {
   "cell_type": "code",
   "execution_count": 1,
   "id": "271b5294",
   "metadata": {},
   "outputs": [],
   "source": [
    "import numpy as np\n",
    "import pandas as pd\n",
    "import matplotlib.pyplot as plt\n",
    "import seaborn as sns\n",
    "import plotly.express as pt\n",
    "%matplotlib inline\n",
    "from sklearn.metrics import classification_report as cr\n",
    "from sklearn.metrics import confusion_matrix as cm\n",
    "from sklearn.metrics import accuracy_score as acs\n",
    "import warnings\n",
    "warnings.filterwarnings('ignore')\n",
    "pd.set_option('display.max_columns',None)"
   ]
  },
  {
   "cell_type": "code",
   "execution_count": 2,
   "id": "1d50349e",
   "metadata": {},
   "outputs": [],
   "source": [
    "from sklearn.model_selection import train_test_split\n",
    "from sklearn.linear_model import LogisticRegression as lg\n",
    "from sklearn.tree import DecisionTreeClassifier \n",
    "from sklearn.ensemble import RandomForestClassifier  \n",
    "from catboost import CatBoostClassifier"
   ]
  },
  {
   "cell_type": "code",
   "execution_count": 3,
   "id": "8f5427ba",
   "metadata": {},
   "outputs": [],
   "source": [
    "df=pd.read_csv('model1.csv')"
   ]
  },
  {
   "cell_type": "code",
   "execution_count": 4,
   "id": "b3c789ee",
   "metadata": {},
   "outputs": [
    {
     "data": {
      "text/html": [
       "<div>\n",
       "<style scoped>\n",
       "    .dataframe tbody tr th:only-of-type {\n",
       "        vertical-align: middle;\n",
       "    }\n",
       "\n",
       "    .dataframe tbody tr th {\n",
       "        vertical-align: top;\n",
       "    }\n",
       "\n",
       "    .dataframe thead th {\n",
       "        text-align: right;\n",
       "    }\n",
       "</style>\n",
       "<table border=\"1\" class=\"dataframe\">\n",
       "  <thead>\n",
       "    <tr style=\"text-align: right;\">\n",
       "      <th></th>\n",
       "      <th>Age</th>\n",
       "      <th>Attrition</th>\n",
       "      <th>DailyRate</th>\n",
       "      <th>DistanceFromHome</th>\n",
       "      <th>Education</th>\n",
       "      <th>EnvironmentSatisfaction</th>\n",
       "      <th>HourlyRate</th>\n",
       "      <th>JobInvolvement</th>\n",
       "      <th>JobLevel</th>\n",
       "      <th>JobSatisfaction</th>\n",
       "      <th>MonthlyIncome</th>\n",
       "      <th>NumCompaniesWorked</th>\n",
       "      <th>PercentSalaryHike</th>\n",
       "      <th>PerformanceRating</th>\n",
       "      <th>RelationshipSatisfaction</th>\n",
       "      <th>StockOptionLevel</th>\n",
       "      <th>TotalWorkingYears</th>\n",
       "      <th>TrainingTimesLastYear</th>\n",
       "      <th>WorkLifeBalance</th>\n",
       "      <th>YearsAtCompany</th>\n",
       "      <th>YearsSinceLastPromotion</th>\n",
       "      <th>BusinessTravel_Travel_Frequently</th>\n",
       "      <th>BusinessTravel_Travel_Rarely</th>\n",
       "      <th>Department_Human Resources</th>\n",
       "      <th>Department_Research &amp; Development</th>\n",
       "      <th>Department_Sales</th>\n",
       "      <th>Department_Software</th>\n",
       "      <th>Department_Support</th>\n",
       "      <th>EducationField_Life Sciences</th>\n",
       "      <th>EducationField_Marketing</th>\n",
       "      <th>EducationField_Medical</th>\n",
       "      <th>EducationField_Other</th>\n",
       "      <th>EducationField_Technical Degree</th>\n",
       "      <th>Gender_Male</th>\n",
       "      <th>JobRole_Healthcare Representative</th>\n",
       "      <th>JobRole_Human Resources</th>\n",
       "      <th>JobRole_Laboratory Technician</th>\n",
       "      <th>JobRole_Manager</th>\n",
       "      <th>JobRole_Manufacturing Director</th>\n",
       "      <th>JobRole_Research Director</th>\n",
       "      <th>JobRole_Research Scientist</th>\n",
       "      <th>JobRole_Sales Executive</th>\n",
       "      <th>JobRole_Sales Representative</th>\n",
       "      <th>MaritalStatus_Married</th>\n",
       "      <th>MaritalStatus_Single</th>\n",
       "      <th>OverTime_Yes</th>\n",
       "    </tr>\n",
       "  </thead>\n",
       "  <tbody>\n",
       "    <tr>\n",
       "      <th>0</th>\n",
       "      <td>0.952381</td>\n",
       "      <td>0.0</td>\n",
       "      <td>0.071429</td>\n",
       "      <td>0.244898</td>\n",
       "      <td>1.00</td>\n",
       "      <td>0.000000</td>\n",
       "      <td>0.017647</td>\n",
       "      <td>1.000000</td>\n",
       "      <td>1.00</td>\n",
       "      <td>1.000000</td>\n",
       "      <td>0.325767</td>\n",
       "      <td>0.750</td>\n",
       "      <td>0.693878</td>\n",
       "      <td>0.333333</td>\n",
       "      <td>0.333333</td>\n",
       "      <td>1.000000</td>\n",
       "      <td>1.000000</td>\n",
       "      <td>0.4</td>\n",
       "      <td>1.000000</td>\n",
       "      <td>0.769231</td>\n",
       "      <td>0.000000</td>\n",
       "      <td>1.0</td>\n",
       "      <td>0.0</td>\n",
       "      <td>0.0</td>\n",
       "      <td>0.0</td>\n",
       "      <td>0.0</td>\n",
       "      <td>0.0</td>\n",
       "      <td>0.0</td>\n",
       "      <td>1.0</td>\n",
       "      <td>0.0</td>\n",
       "      <td>0.0</td>\n",
       "      <td>0.0</td>\n",
       "      <td>0.0</td>\n",
       "      <td>1.0</td>\n",
       "      <td>0.0</td>\n",
       "      <td>0.0</td>\n",
       "      <td>0.0</td>\n",
       "      <td>0.0</td>\n",
       "      <td>0.0</td>\n",
       "      <td>0.0</td>\n",
       "      <td>0.0</td>\n",
       "      <td>1.0</td>\n",
       "      <td>0.0</td>\n",
       "      <td>1.0</td>\n",
       "      <td>0.0</td>\n",
       "      <td>0.0</td>\n",
       "    </tr>\n",
       "    <tr>\n",
       "      <th>1</th>\n",
       "      <td>0.404762</td>\n",
       "      <td>0.0</td>\n",
       "      <td>0.436429</td>\n",
       "      <td>0.551020</td>\n",
       "      <td>0.75</td>\n",
       "      <td>0.666667</td>\n",
       "      <td>0.352941</td>\n",
       "      <td>0.000000</td>\n",
       "      <td>1.00</td>\n",
       "      <td>0.000000</td>\n",
       "      <td>0.800016</td>\n",
       "      <td>0.750</td>\n",
       "      <td>0.959184</td>\n",
       "      <td>1.000000</td>\n",
       "      <td>1.000000</td>\n",
       "      <td>0.666667</td>\n",
       "      <td>0.000000</td>\n",
       "      <td>0.0</td>\n",
       "      <td>1.000000</td>\n",
       "      <td>0.000000</td>\n",
       "      <td>0.000000</td>\n",
       "      <td>0.0</td>\n",
       "      <td>1.0</td>\n",
       "      <td>0.0</td>\n",
       "      <td>1.0</td>\n",
       "      <td>0.0</td>\n",
       "      <td>0.0</td>\n",
       "      <td>0.0</td>\n",
       "      <td>0.0</td>\n",
       "      <td>0.0</td>\n",
       "      <td>0.0</td>\n",
       "      <td>0.0</td>\n",
       "      <td>1.0</td>\n",
       "      <td>1.0</td>\n",
       "      <td>0.0</td>\n",
       "      <td>0.0</td>\n",
       "      <td>0.0</td>\n",
       "      <td>0.0</td>\n",
       "      <td>0.0</td>\n",
       "      <td>0.0</td>\n",
       "      <td>1.0</td>\n",
       "      <td>0.0</td>\n",
       "      <td>0.0</td>\n",
       "      <td>0.0</td>\n",
       "      <td>1.0</td>\n",
       "      <td>1.0</td>\n",
       "    </tr>\n",
       "    <tr>\n",
       "      <th>2</th>\n",
       "      <td>0.452381</td>\n",
       "      <td>0.0</td>\n",
       "      <td>0.697857</td>\n",
       "      <td>0.306122</td>\n",
       "      <td>1.00</td>\n",
       "      <td>0.666667</td>\n",
       "      <td>0.658824</td>\n",
       "      <td>0.333333</td>\n",
       "      <td>0.50</td>\n",
       "      <td>0.333333</td>\n",
       "      <td>0.551831</td>\n",
       "      <td>0.375</td>\n",
       "      <td>0.448980</td>\n",
       "      <td>0.666667</td>\n",
       "      <td>0.666667</td>\n",
       "      <td>0.333333</td>\n",
       "      <td>0.128205</td>\n",
       "      <td>0.0</td>\n",
       "      <td>0.000000</td>\n",
       "      <td>0.051282</td>\n",
       "      <td>0.051282</td>\n",
       "      <td>0.0</td>\n",
       "      <td>0.0</td>\n",
       "      <td>1.0</td>\n",
       "      <td>0.0</td>\n",
       "      <td>0.0</td>\n",
       "      <td>0.0</td>\n",
       "      <td>0.0</td>\n",
       "      <td>0.0</td>\n",
       "      <td>0.0</td>\n",
       "      <td>0.0</td>\n",
       "      <td>1.0</td>\n",
       "      <td>0.0</td>\n",
       "      <td>0.0</td>\n",
       "      <td>0.0</td>\n",
       "      <td>0.0</td>\n",
       "      <td>0.0</td>\n",
       "      <td>1.0</td>\n",
       "      <td>0.0</td>\n",
       "      <td>0.0</td>\n",
       "      <td>0.0</td>\n",
       "      <td>0.0</td>\n",
       "      <td>0.0</td>\n",
       "      <td>0.0</td>\n",
       "      <td>1.0</td>\n",
       "      <td>0.0</td>\n",
       "    </tr>\n",
       "    <tr>\n",
       "      <th>3</th>\n",
       "      <td>0.380952</td>\n",
       "      <td>1.0</td>\n",
       "      <td>0.785000</td>\n",
       "      <td>0.183673</td>\n",
       "      <td>0.25</td>\n",
       "      <td>0.333333</td>\n",
       "      <td>0.982353</td>\n",
       "      <td>0.333333</td>\n",
       "      <td>0.00</td>\n",
       "      <td>1.000000</td>\n",
       "      <td>0.439369</td>\n",
       "      <td>0.250</td>\n",
       "      <td>0.040816</td>\n",
       "      <td>0.000000</td>\n",
       "      <td>1.000000</td>\n",
       "      <td>0.000000</td>\n",
       "      <td>0.153846</td>\n",
       "      <td>0.6</td>\n",
       "      <td>0.666667</td>\n",
       "      <td>0.128205</td>\n",
       "      <td>0.102564</td>\n",
       "      <td>1.0</td>\n",
       "      <td>0.0</td>\n",
       "      <td>0.0</td>\n",
       "      <td>0.0</td>\n",
       "      <td>0.0</td>\n",
       "      <td>0.0</td>\n",
       "      <td>0.0</td>\n",
       "      <td>0.0</td>\n",
       "      <td>0.0</td>\n",
       "      <td>1.0</td>\n",
       "      <td>0.0</td>\n",
       "      <td>0.0</td>\n",
       "      <td>1.0</td>\n",
       "      <td>0.0</td>\n",
       "      <td>0.0</td>\n",
       "      <td>0.0</td>\n",
       "      <td>1.0</td>\n",
       "      <td>0.0</td>\n",
       "      <td>0.0</td>\n",
       "      <td>0.0</td>\n",
       "      <td>0.0</td>\n",
       "      <td>0.0</td>\n",
       "      <td>0.0</td>\n",
       "      <td>0.0</td>\n",
       "      <td>0.0</td>\n",
       "    </tr>\n",
       "    <tr>\n",
       "      <th>4</th>\n",
       "      <td>0.714286</td>\n",
       "      <td>0.0</td>\n",
       "      <td>0.060000</td>\n",
       "      <td>0.673469</td>\n",
       "      <td>0.50</td>\n",
       "      <td>0.666667</td>\n",
       "      <td>0.547059</td>\n",
       "      <td>0.000000</td>\n",
       "      <td>0.50</td>\n",
       "      <td>0.000000</td>\n",
       "      <td>0.310546</td>\n",
       "      <td>0.125</td>\n",
       "      <td>0.285714</td>\n",
       "      <td>0.333333</td>\n",
       "      <td>1.000000</td>\n",
       "      <td>0.333333</td>\n",
       "      <td>0.410256</td>\n",
       "      <td>1.0</td>\n",
       "      <td>0.333333</td>\n",
       "      <td>0.256410</td>\n",
       "      <td>0.128205</td>\n",
       "      <td>0.0</td>\n",
       "      <td>1.0</td>\n",
       "      <td>1.0</td>\n",
       "      <td>0.0</td>\n",
       "      <td>0.0</td>\n",
       "      <td>0.0</td>\n",
       "      <td>0.0</td>\n",
       "      <td>0.0</td>\n",
       "      <td>0.0</td>\n",
       "      <td>0.0</td>\n",
       "      <td>1.0</td>\n",
       "      <td>0.0</td>\n",
       "      <td>1.0</td>\n",
       "      <td>0.0</td>\n",
       "      <td>1.0</td>\n",
       "      <td>0.0</td>\n",
       "      <td>0.0</td>\n",
       "      <td>0.0</td>\n",
       "      <td>0.0</td>\n",
       "      <td>0.0</td>\n",
       "      <td>0.0</td>\n",
       "      <td>0.0</td>\n",
       "      <td>1.0</td>\n",
       "      <td>0.0</td>\n",
       "      <td>1.0</td>\n",
       "    </tr>\n",
       "    <tr>\n",
       "      <th>...</th>\n",
       "      <td>...</td>\n",
       "      <td>...</td>\n",
       "      <td>...</td>\n",
       "      <td>...</td>\n",
       "      <td>...</td>\n",
       "      <td>...</td>\n",
       "      <td>...</td>\n",
       "      <td>...</td>\n",
       "      <td>...</td>\n",
       "      <td>...</td>\n",
       "      <td>...</td>\n",
       "      <td>...</td>\n",
       "      <td>...</td>\n",
       "      <td>...</td>\n",
       "      <td>...</td>\n",
       "      <td>...</td>\n",
       "      <td>...</td>\n",
       "      <td>...</td>\n",
       "      <td>...</td>\n",
       "      <td>...</td>\n",
       "      <td>...</td>\n",
       "      <td>...</td>\n",
       "      <td>...</td>\n",
       "      <td>...</td>\n",
       "      <td>...</td>\n",
       "      <td>...</td>\n",
       "      <td>...</td>\n",
       "      <td>...</td>\n",
       "      <td>...</td>\n",
       "      <td>...</td>\n",
       "      <td>...</td>\n",
       "      <td>...</td>\n",
       "      <td>...</td>\n",
       "      <td>...</td>\n",
       "      <td>...</td>\n",
       "      <td>...</td>\n",
       "      <td>...</td>\n",
       "      <td>...</td>\n",
       "      <td>...</td>\n",
       "      <td>...</td>\n",
       "      <td>...</td>\n",
       "      <td>...</td>\n",
       "      <td>...</td>\n",
       "      <td>...</td>\n",
       "      <td>...</td>\n",
       "      <td>...</td>\n",
       "    </tr>\n",
       "    <tr>\n",
       "      <th>546216</th>\n",
       "      <td>0.047619</td>\n",
       "      <td>0.0</td>\n",
       "      <td>0.980000</td>\n",
       "      <td>0.816327</td>\n",
       "      <td>0.50</td>\n",
       "      <td>0.000000</td>\n",
       "      <td>1.000000</td>\n",
       "      <td>0.666667</td>\n",
       "      <td>0.75</td>\n",
       "      <td>1.000000</td>\n",
       "      <td>0.072541</td>\n",
       "      <td>1.000</td>\n",
       "      <td>0.224490</td>\n",
       "      <td>0.000000</td>\n",
       "      <td>0.000000</td>\n",
       "      <td>0.000000</td>\n",
       "      <td>0.025641</td>\n",
       "      <td>0.6</td>\n",
       "      <td>0.333333</td>\n",
       "      <td>0.000000</td>\n",
       "      <td>0.000000</td>\n",
       "      <td>1.0</td>\n",
       "      <td>0.0</td>\n",
       "      <td>0.0</td>\n",
       "      <td>1.0</td>\n",
       "      <td>0.0</td>\n",
       "      <td>0.0</td>\n",
       "      <td>0.0</td>\n",
       "      <td>0.0</td>\n",
       "      <td>1.0</td>\n",
       "      <td>0.0</td>\n",
       "      <td>0.0</td>\n",
       "      <td>0.0</td>\n",
       "      <td>1.0</td>\n",
       "      <td>0.0</td>\n",
       "      <td>0.0</td>\n",
       "      <td>0.0</td>\n",
       "      <td>1.0</td>\n",
       "      <td>0.0</td>\n",
       "      <td>0.0</td>\n",
       "      <td>0.0</td>\n",
       "      <td>0.0</td>\n",
       "      <td>0.0</td>\n",
       "      <td>0.0</td>\n",
       "      <td>1.0</td>\n",
       "      <td>0.0</td>\n",
       "    </tr>\n",
       "    <tr>\n",
       "      <th>546217</th>\n",
       "      <td>1.000000</td>\n",
       "      <td>1.0</td>\n",
       "      <td>0.850000</td>\n",
       "      <td>0.163265</td>\n",
       "      <td>1.00</td>\n",
       "      <td>0.666667</td>\n",
       "      <td>0.858824</td>\n",
       "      <td>1.000000</td>\n",
       "      <td>0.50</td>\n",
       "      <td>0.000000</td>\n",
       "      <td>0.496470</td>\n",
       "      <td>0.000</td>\n",
       "      <td>0.326531</td>\n",
       "      <td>0.666667</td>\n",
       "      <td>0.000000</td>\n",
       "      <td>0.000000</td>\n",
       "      <td>0.769231</td>\n",
       "      <td>0.4</td>\n",
       "      <td>0.000000</td>\n",
       "      <td>0.410256</td>\n",
       "      <td>0.410256</td>\n",
       "      <td>1.0</td>\n",
       "      <td>0.0</td>\n",
       "      <td>0.0</td>\n",
       "      <td>0.0</td>\n",
       "      <td>0.0</td>\n",
       "      <td>0.0</td>\n",
       "      <td>1.0</td>\n",
       "      <td>0.0</td>\n",
       "      <td>1.0</td>\n",
       "      <td>0.0</td>\n",
       "      <td>0.0</td>\n",
       "      <td>0.0</td>\n",
       "      <td>0.0</td>\n",
       "      <td>0.0</td>\n",
       "      <td>0.0</td>\n",
       "      <td>0.0</td>\n",
       "      <td>1.0</td>\n",
       "      <td>0.0</td>\n",
       "      <td>0.0</td>\n",
       "      <td>0.0</td>\n",
       "      <td>0.0</td>\n",
       "      <td>0.0</td>\n",
       "      <td>0.0</td>\n",
       "      <td>0.0</td>\n",
       "      <td>1.0</td>\n",
       "    </tr>\n",
       "    <tr>\n",
       "      <th>546218</th>\n",
       "      <td>0.785714</td>\n",
       "      <td>0.0</td>\n",
       "      <td>0.832143</td>\n",
       "      <td>1.000000</td>\n",
       "      <td>0.50</td>\n",
       "      <td>1.000000</td>\n",
       "      <td>0.729412</td>\n",
       "      <td>0.333333</td>\n",
       "      <td>0.50</td>\n",
       "      <td>0.000000</td>\n",
       "      <td>0.223164</td>\n",
       "      <td>0.000</td>\n",
       "      <td>0.040816</td>\n",
       "      <td>0.666667</td>\n",
       "      <td>0.666667</td>\n",
       "      <td>1.000000</td>\n",
       "      <td>0.358974</td>\n",
       "      <td>0.2</td>\n",
       "      <td>0.333333</td>\n",
       "      <td>0.282051</td>\n",
       "      <td>0.000000</td>\n",
       "      <td>0.0</td>\n",
       "      <td>0.0</td>\n",
       "      <td>0.0</td>\n",
       "      <td>0.0</td>\n",
       "      <td>0.0</td>\n",
       "      <td>0.0</td>\n",
       "      <td>0.0</td>\n",
       "      <td>0.0</td>\n",
       "      <td>0.0</td>\n",
       "      <td>0.0</td>\n",
       "      <td>1.0</td>\n",
       "      <td>0.0</td>\n",
       "      <td>0.0</td>\n",
       "      <td>1.0</td>\n",
       "      <td>0.0</td>\n",
       "      <td>0.0</td>\n",
       "      <td>0.0</td>\n",
       "      <td>0.0</td>\n",
       "      <td>0.0</td>\n",
       "      <td>0.0</td>\n",
       "      <td>0.0</td>\n",
       "      <td>0.0</td>\n",
       "      <td>1.0</td>\n",
       "      <td>0.0</td>\n",
       "      <td>0.0</td>\n",
       "    </tr>\n",
       "    <tr>\n",
       "      <th>546219</th>\n",
       "      <td>0.880952</td>\n",
       "      <td>0.0</td>\n",
       "      <td>0.855714</td>\n",
       "      <td>0.653061</td>\n",
       "      <td>1.00</td>\n",
       "      <td>0.000000</td>\n",
       "      <td>0.658824</td>\n",
       "      <td>0.000000</td>\n",
       "      <td>0.50</td>\n",
       "      <td>0.666667</td>\n",
       "      <td>0.375808</td>\n",
       "      <td>0.625</td>\n",
       "      <td>0.530612</td>\n",
       "      <td>0.666667</td>\n",
       "      <td>1.000000</td>\n",
       "      <td>0.000000</td>\n",
       "      <td>0.717949</td>\n",
       "      <td>0.6</td>\n",
       "      <td>1.000000</td>\n",
       "      <td>0.692308</td>\n",
       "      <td>0.384615</td>\n",
       "      <td>0.0</td>\n",
       "      <td>0.0</td>\n",
       "      <td>0.0</td>\n",
       "      <td>0.0</td>\n",
       "      <td>0.0</td>\n",
       "      <td>0.0</td>\n",
       "      <td>1.0</td>\n",
       "      <td>0.0</td>\n",
       "      <td>0.0</td>\n",
       "      <td>0.0</td>\n",
       "      <td>0.0</td>\n",
       "      <td>0.0</td>\n",
       "      <td>0.0</td>\n",
       "      <td>0.0</td>\n",
       "      <td>0.0</td>\n",
       "      <td>0.0</td>\n",
       "      <td>0.0</td>\n",
       "      <td>0.0</td>\n",
       "      <td>0.0</td>\n",
       "      <td>0.0</td>\n",
       "      <td>1.0</td>\n",
       "      <td>0.0</td>\n",
       "      <td>0.0</td>\n",
       "      <td>1.0</td>\n",
       "      <td>0.0</td>\n",
       "    </tr>\n",
       "    <tr>\n",
       "      <th>546220</th>\n",
       "      <td>0.619048</td>\n",
       "      <td>1.0</td>\n",
       "      <td>0.689286</td>\n",
       "      <td>0.673469</td>\n",
       "      <td>0.50</td>\n",
       "      <td>1.000000</td>\n",
       "      <td>0.423529</td>\n",
       "      <td>0.333333</td>\n",
       "      <td>0.00</td>\n",
       "      <td>0.666667</td>\n",
       "      <td>0.174723</td>\n",
       "      <td>0.875</td>\n",
       "      <td>0.510204</td>\n",
       "      <td>0.666667</td>\n",
       "      <td>0.666667</td>\n",
       "      <td>1.000000</td>\n",
       "      <td>0.487179</td>\n",
       "      <td>0.2</td>\n",
       "      <td>0.666667</td>\n",
       "      <td>0.025641</td>\n",
       "      <td>0.000000</td>\n",
       "      <td>0.0</td>\n",
       "      <td>0.0</td>\n",
       "      <td>0.0</td>\n",
       "      <td>1.0</td>\n",
       "      <td>0.0</td>\n",
       "      <td>0.0</td>\n",
       "      <td>0.0</td>\n",
       "      <td>0.0</td>\n",
       "      <td>0.0</td>\n",
       "      <td>0.0</td>\n",
       "      <td>0.0</td>\n",
       "      <td>0.0</td>\n",
       "      <td>0.0</td>\n",
       "      <td>1.0</td>\n",
       "      <td>0.0</td>\n",
       "      <td>0.0</td>\n",
       "      <td>0.0</td>\n",
       "      <td>0.0</td>\n",
       "      <td>0.0</td>\n",
       "      <td>0.0</td>\n",
       "      <td>0.0</td>\n",
       "      <td>0.0</td>\n",
       "      <td>1.0</td>\n",
       "      <td>0.0</td>\n",
       "      <td>1.0</td>\n",
       "    </tr>\n",
       "  </tbody>\n",
       "</table>\n",
       "<p>546221 rows × 46 columns</p>\n",
       "</div>"
      ],
      "text/plain": [
       "             Age  Attrition  DailyRate  DistanceFromHome  Education  \\\n",
       "0       0.952381        0.0   0.071429          0.244898       1.00   \n",
       "1       0.404762        0.0   0.436429          0.551020       0.75   \n",
       "2       0.452381        0.0   0.697857          0.306122       1.00   \n",
       "3       0.380952        1.0   0.785000          0.183673       0.25   \n",
       "4       0.714286        0.0   0.060000          0.673469       0.50   \n",
       "...          ...        ...        ...               ...        ...   \n",
       "546216  0.047619        0.0   0.980000          0.816327       0.50   \n",
       "546217  1.000000        1.0   0.850000          0.163265       1.00   \n",
       "546218  0.785714        0.0   0.832143          1.000000       0.50   \n",
       "546219  0.880952        0.0   0.855714          0.653061       1.00   \n",
       "546220  0.619048        1.0   0.689286          0.673469       0.50   \n",
       "\n",
       "        EnvironmentSatisfaction  HourlyRate  JobInvolvement  JobLevel  \\\n",
       "0                      0.000000    0.017647        1.000000      1.00   \n",
       "1                      0.666667    0.352941        0.000000      1.00   \n",
       "2                      0.666667    0.658824        0.333333      0.50   \n",
       "3                      0.333333    0.982353        0.333333      0.00   \n",
       "4                      0.666667    0.547059        0.000000      0.50   \n",
       "...                         ...         ...             ...       ...   \n",
       "546216                 0.000000    1.000000        0.666667      0.75   \n",
       "546217                 0.666667    0.858824        1.000000      0.50   \n",
       "546218                 1.000000    0.729412        0.333333      0.50   \n",
       "546219                 0.000000    0.658824        0.000000      0.50   \n",
       "546220                 1.000000    0.423529        0.333333      0.00   \n",
       "\n",
       "        JobSatisfaction  MonthlyIncome  NumCompaniesWorked  PercentSalaryHike  \\\n",
       "0              1.000000       0.325767               0.750           0.693878   \n",
       "1              0.000000       0.800016               0.750           0.959184   \n",
       "2              0.333333       0.551831               0.375           0.448980   \n",
       "3              1.000000       0.439369               0.250           0.040816   \n",
       "4              0.000000       0.310546               0.125           0.285714   \n",
       "...                 ...            ...                 ...                ...   \n",
       "546216         1.000000       0.072541               1.000           0.224490   \n",
       "546217         0.000000       0.496470               0.000           0.326531   \n",
       "546218         0.000000       0.223164               0.000           0.040816   \n",
       "546219         0.666667       0.375808               0.625           0.530612   \n",
       "546220         0.666667       0.174723               0.875           0.510204   \n",
       "\n",
       "        PerformanceRating  RelationshipSatisfaction  StockOptionLevel  \\\n",
       "0                0.333333                  0.333333          1.000000   \n",
       "1                1.000000                  1.000000          0.666667   \n",
       "2                0.666667                  0.666667          0.333333   \n",
       "3                0.000000                  1.000000          0.000000   \n",
       "4                0.333333                  1.000000          0.333333   \n",
       "...                   ...                       ...               ...   \n",
       "546216           0.000000                  0.000000          0.000000   \n",
       "546217           0.666667                  0.000000          0.000000   \n",
       "546218           0.666667                  0.666667          1.000000   \n",
       "546219           0.666667                  1.000000          0.000000   \n",
       "546220           0.666667                  0.666667          1.000000   \n",
       "\n",
       "        TotalWorkingYears  TrainingTimesLastYear  WorkLifeBalance  \\\n",
       "0                1.000000                    0.4         1.000000   \n",
       "1                0.000000                    0.0         1.000000   \n",
       "2                0.128205                    0.0         0.000000   \n",
       "3                0.153846                    0.6         0.666667   \n",
       "4                0.410256                    1.0         0.333333   \n",
       "...                   ...                    ...              ...   \n",
       "546216           0.025641                    0.6         0.333333   \n",
       "546217           0.769231                    0.4         0.000000   \n",
       "546218           0.358974                    0.2         0.333333   \n",
       "546219           0.717949                    0.6         1.000000   \n",
       "546220           0.487179                    0.2         0.666667   \n",
       "\n",
       "        YearsAtCompany  YearsSinceLastPromotion  \\\n",
       "0             0.769231                 0.000000   \n",
       "1             0.000000                 0.000000   \n",
       "2             0.051282                 0.051282   \n",
       "3             0.128205                 0.102564   \n",
       "4             0.256410                 0.128205   \n",
       "...                ...                      ...   \n",
       "546216        0.000000                 0.000000   \n",
       "546217        0.410256                 0.410256   \n",
       "546218        0.282051                 0.000000   \n",
       "546219        0.692308                 0.384615   \n",
       "546220        0.025641                 0.000000   \n",
       "\n",
       "        BusinessTravel_Travel_Frequently  BusinessTravel_Travel_Rarely  \\\n",
       "0                                    1.0                           0.0   \n",
       "1                                    0.0                           1.0   \n",
       "2                                    0.0                           0.0   \n",
       "3                                    1.0                           0.0   \n",
       "4                                    0.0                           1.0   \n",
       "...                                  ...                           ...   \n",
       "546216                               1.0                           0.0   \n",
       "546217                               1.0                           0.0   \n",
       "546218                               0.0                           0.0   \n",
       "546219                               0.0                           0.0   \n",
       "546220                               0.0                           0.0   \n",
       "\n",
       "        Department_Human Resources  Department_Research & Development  \\\n",
       "0                              0.0                                0.0   \n",
       "1                              0.0                                1.0   \n",
       "2                              1.0                                0.0   \n",
       "3                              0.0                                0.0   \n",
       "4                              1.0                                0.0   \n",
       "...                            ...                                ...   \n",
       "546216                         0.0                                1.0   \n",
       "546217                         0.0                                0.0   \n",
       "546218                         0.0                                0.0   \n",
       "546219                         0.0                                0.0   \n",
       "546220                         0.0                                1.0   \n",
       "\n",
       "        Department_Sales  Department_Software  Department_Support  \\\n",
       "0                    0.0                  0.0                 0.0   \n",
       "1                    0.0                  0.0                 0.0   \n",
       "2                    0.0                  0.0                 0.0   \n",
       "3                    0.0                  0.0                 0.0   \n",
       "4                    0.0                  0.0                 0.0   \n",
       "...                  ...                  ...                 ...   \n",
       "546216               0.0                  0.0                 0.0   \n",
       "546217               0.0                  0.0                 1.0   \n",
       "546218               0.0                  0.0                 0.0   \n",
       "546219               0.0                  0.0                 1.0   \n",
       "546220               0.0                  0.0                 0.0   \n",
       "\n",
       "        EducationField_Life Sciences  EducationField_Marketing  \\\n",
       "0                                1.0                       0.0   \n",
       "1                                0.0                       0.0   \n",
       "2                                0.0                       0.0   \n",
       "3                                0.0                       0.0   \n",
       "4                                0.0                       0.0   \n",
       "...                              ...                       ...   \n",
       "546216                           0.0                       1.0   \n",
       "546217                           0.0                       1.0   \n",
       "546218                           0.0                       0.0   \n",
       "546219                           0.0                       0.0   \n",
       "546220                           0.0                       0.0   \n",
       "\n",
       "        EducationField_Medical  EducationField_Other  \\\n",
       "0                          0.0                   0.0   \n",
       "1                          0.0                   0.0   \n",
       "2                          0.0                   1.0   \n",
       "3                          1.0                   0.0   \n",
       "4                          0.0                   1.0   \n",
       "...                        ...                   ...   \n",
       "546216                     0.0                   0.0   \n",
       "546217                     0.0                   0.0   \n",
       "546218                     0.0                   1.0   \n",
       "546219                     0.0                   0.0   \n",
       "546220                     0.0                   0.0   \n",
       "\n",
       "        EducationField_Technical Degree  Gender_Male  \\\n",
       "0                                   0.0          1.0   \n",
       "1                                   1.0          1.0   \n",
       "2                                   0.0          0.0   \n",
       "3                                   0.0          1.0   \n",
       "4                                   0.0          1.0   \n",
       "...                                 ...          ...   \n",
       "546216                              0.0          1.0   \n",
       "546217                              0.0          0.0   \n",
       "546218                              0.0          0.0   \n",
       "546219                              0.0          0.0   \n",
       "546220                              0.0          0.0   \n",
       "\n",
       "        JobRole_Healthcare Representative  JobRole_Human Resources  \\\n",
       "0                                     0.0                      0.0   \n",
       "1                                     0.0                      0.0   \n",
       "2                                     0.0                      0.0   \n",
       "3                                     0.0                      0.0   \n",
       "4                                     0.0                      1.0   \n",
       "...                                   ...                      ...   \n",
       "546216                                0.0                      0.0   \n",
       "546217                                0.0                      0.0   \n",
       "546218                                1.0                      0.0   \n",
       "546219                                0.0                      0.0   \n",
       "546220                                1.0                      0.0   \n",
       "\n",
       "        JobRole_Laboratory Technician  JobRole_Manager  \\\n",
       "0                                 0.0              0.0   \n",
       "1                                 0.0              0.0   \n",
       "2                                 0.0              1.0   \n",
       "3                                 0.0              1.0   \n",
       "4                                 0.0              0.0   \n",
       "...                               ...              ...   \n",
       "546216                            0.0              1.0   \n",
       "546217                            0.0              1.0   \n",
       "546218                            0.0              0.0   \n",
       "546219                            0.0              0.0   \n",
       "546220                            0.0              0.0   \n",
       "\n",
       "        JobRole_Manufacturing Director  JobRole_Research Director  \\\n",
       "0                                  0.0                        0.0   \n",
       "1                                  0.0                        0.0   \n",
       "2                                  0.0                        0.0   \n",
       "3                                  0.0                        0.0   \n",
       "4                                  0.0                        0.0   \n",
       "...                                ...                        ...   \n",
       "546216                             0.0                        0.0   \n",
       "546217                             0.0                        0.0   \n",
       "546218                             0.0                        0.0   \n",
       "546219                             0.0                        0.0   \n",
       "546220                             0.0                        0.0   \n",
       "\n",
       "        JobRole_Research Scientist  JobRole_Sales Executive  \\\n",
       "0                              0.0                      1.0   \n",
       "1                              1.0                      0.0   \n",
       "2                              0.0                      0.0   \n",
       "3                              0.0                      0.0   \n",
       "4                              0.0                      0.0   \n",
       "...                            ...                      ...   \n",
       "546216                         0.0                      0.0   \n",
       "546217                         0.0                      0.0   \n",
       "546218                         0.0                      0.0   \n",
       "546219                         0.0                      1.0   \n",
       "546220                         0.0                      0.0   \n",
       "\n",
       "        JobRole_Sales Representative  MaritalStatus_Married  \\\n",
       "0                                0.0                    1.0   \n",
       "1                                0.0                    0.0   \n",
       "2                                0.0                    0.0   \n",
       "3                                0.0                    0.0   \n",
       "4                                0.0                    1.0   \n",
       "...                              ...                    ...   \n",
       "546216                           0.0                    0.0   \n",
       "546217                           0.0                    0.0   \n",
       "546218                           0.0                    1.0   \n",
       "546219                           0.0                    0.0   \n",
       "546220                           0.0                    1.0   \n",
       "\n",
       "        MaritalStatus_Single  OverTime_Yes  \n",
       "0                        0.0           0.0  \n",
       "1                        1.0           1.0  \n",
       "2                        1.0           0.0  \n",
       "3                        0.0           0.0  \n",
       "4                        0.0           1.0  \n",
       "...                      ...           ...  \n",
       "546216                   1.0           0.0  \n",
       "546217                   0.0           1.0  \n",
       "546218                   0.0           0.0  \n",
       "546219                   1.0           0.0  \n",
       "546220                   0.0           1.0  \n",
       "\n",
       "[546221 rows x 46 columns]"
      ]
     },
     "execution_count": 4,
     "metadata": {},
     "output_type": "execute_result"
    }
   ],
   "source": [
    "df"
   ]
  },
  {
   "cell_type": "code",
   "execution_count": 5,
   "id": "a7ea06cd",
   "metadata": {},
   "outputs": [
    {
     "data": {
      "text/plain": [
       "Index(['Age', 'Attrition', 'DailyRate', 'DistanceFromHome', 'Education',\n",
       "       'EnvironmentSatisfaction', 'HourlyRate', 'JobInvolvement', 'JobLevel',\n",
       "       'JobSatisfaction', 'MonthlyIncome', 'NumCompaniesWorked',\n",
       "       'PercentSalaryHike', 'PerformanceRating', 'RelationshipSatisfaction',\n",
       "       'StockOptionLevel', 'TotalWorkingYears', 'TrainingTimesLastYear',\n",
       "       'WorkLifeBalance', 'YearsAtCompany', 'YearsSinceLastPromotion',\n",
       "       'BusinessTravel_Travel_Frequently', 'BusinessTravel_Travel_Rarely',\n",
       "       'Department_Human Resources', 'Department_Research & Development',\n",
       "       'Department_Sales', 'Department_Software', 'Department_Support',\n",
       "       'EducationField_Life Sciences', 'EducationField_Marketing',\n",
       "       'EducationField_Medical', 'EducationField_Other',\n",
       "       'EducationField_Technical Degree', 'Gender_Male',\n",
       "       'JobRole_Healthcare Representative', 'JobRole_Human Resources',\n",
       "       'JobRole_Laboratory Technician', 'JobRole_Manager',\n",
       "       'JobRole_Manufacturing Director', 'JobRole_Research Director',\n",
       "       'JobRole_Research Scientist', 'JobRole_Sales Executive',\n",
       "       'JobRole_Sales Representative', 'MaritalStatus_Married',\n",
       "       'MaritalStatus_Single', 'OverTime_Yes'],\n",
       "      dtype='object')"
      ]
     },
     "execution_count": 5,
     "metadata": {},
     "output_type": "execute_result"
    }
   ],
   "source": [
    "df.columns"
   ]
  },
  {
   "cell_type": "code",
   "execution_count": 6,
   "id": "20f130ba",
   "metadata": {},
   "outputs": [
    {
     "name": "stdout",
     "output_type": "stream",
     "text": [
      "<class 'pandas.core.frame.DataFrame'>\n",
      "RangeIndex: 546221 entries, 0 to 546220\n",
      "Data columns (total 46 columns):\n",
      " #   Column                             Non-Null Count   Dtype  \n",
      "---  ------                             --------------   -----  \n",
      " 0   Age                                546221 non-null  float64\n",
      " 1   Attrition                          546221 non-null  float64\n",
      " 2   DailyRate                          546221 non-null  float64\n",
      " 3   DistanceFromHome                   546221 non-null  float64\n",
      " 4   Education                          546221 non-null  float64\n",
      " 5   EnvironmentSatisfaction            546221 non-null  float64\n",
      " 6   HourlyRate                         546221 non-null  float64\n",
      " 7   JobInvolvement                     546221 non-null  float64\n",
      " 8   JobLevel                           546221 non-null  float64\n",
      " 9   JobSatisfaction                    546221 non-null  float64\n",
      " 10  MonthlyIncome                      546221 non-null  float64\n",
      " 11  NumCompaniesWorked                 546221 non-null  float64\n",
      " 12  PercentSalaryHike                  546221 non-null  float64\n",
      " 13  PerformanceRating                  546221 non-null  float64\n",
      " 14  RelationshipSatisfaction           546221 non-null  float64\n",
      " 15  StockOptionLevel                   546221 non-null  float64\n",
      " 16  TotalWorkingYears                  546221 non-null  float64\n",
      " 17  TrainingTimesLastYear              546221 non-null  float64\n",
      " 18  WorkLifeBalance                    546221 non-null  float64\n",
      " 19  YearsAtCompany                     546221 non-null  float64\n",
      " 20  YearsSinceLastPromotion            546221 non-null  float64\n",
      " 21  BusinessTravel_Travel_Frequently   546221 non-null  float64\n",
      " 22  BusinessTravel_Travel_Rarely       546221 non-null  float64\n",
      " 23  Department_Human Resources         546221 non-null  float64\n",
      " 24  Department_Research & Development  546221 non-null  float64\n",
      " 25  Department_Sales                   546221 non-null  float64\n",
      " 26  Department_Software                546221 non-null  float64\n",
      " 27  Department_Support                 546221 non-null  float64\n",
      " 28  EducationField_Life Sciences       546221 non-null  float64\n",
      " 29  EducationField_Marketing           546221 non-null  float64\n",
      " 30  EducationField_Medical             546221 non-null  float64\n",
      " 31  EducationField_Other               546221 non-null  float64\n",
      " 32  EducationField_Technical Degree    546221 non-null  float64\n",
      " 33  Gender_Male                        546221 non-null  float64\n",
      " 34  JobRole_Healthcare Representative  546221 non-null  float64\n",
      " 35  JobRole_Human Resources            546221 non-null  float64\n",
      " 36  JobRole_Laboratory Technician      546221 non-null  float64\n",
      " 37  JobRole_Manager                    546221 non-null  float64\n",
      " 38  JobRole_Manufacturing Director     546221 non-null  float64\n",
      " 39  JobRole_Research Director          546221 non-null  float64\n",
      " 40  JobRole_Research Scientist         546221 non-null  float64\n",
      " 41  JobRole_Sales Executive            546221 non-null  float64\n",
      " 42  JobRole_Sales Representative       546221 non-null  float64\n",
      " 43  MaritalStatus_Married              546221 non-null  float64\n",
      " 44  MaritalStatus_Single               546221 non-null  float64\n",
      " 45  OverTime_Yes                       546221 non-null  float64\n",
      "dtypes: float64(46)\n",
      "memory usage: 191.7 MB\n"
     ]
    }
   ],
   "source": [
    "df.info()"
   ]
  },
  {
   "cell_type": "code",
   "execution_count": 7,
   "id": "4ae9b07e",
   "metadata": {},
   "outputs": [
    {
     "data": {
      "text/plain": [
       "(546221, 46)"
      ]
     },
     "execution_count": 7,
     "metadata": {},
     "output_type": "execute_result"
    }
   ],
   "source": [
    "df.shape"
   ]
  },
  {
   "cell_type": "code",
   "execution_count": 8,
   "id": "0994eed3",
   "metadata": {},
   "outputs": [],
   "source": [
    "df[\"Attrition\"]=df[\"Attrition\"].astype(int)"
   ]
  },
  {
   "cell_type": "code",
   "execution_count": 9,
   "id": "320c0f77",
   "metadata": {},
   "outputs": [],
   "source": [
    "x=df.drop(\"Attrition\",axis=1)\n",
    "y=df[\"Attrition\"]"
   ]
  },
  {
   "cell_type": "code",
   "execution_count": 10,
   "id": "bce4a028",
   "metadata": {},
   "outputs": [
    {
     "data": {
      "text/plain": [
       "0    273189\n",
       "1    273032\n",
       "Name: Attrition, dtype: int64"
      ]
     },
     "execution_count": 10,
     "metadata": {},
     "output_type": "execute_result"
    }
   ],
   "source": [
    "df[\"Attrition\"].value_counts()"
   ]
  },
  {
   "cell_type": "code",
   "execution_count": 11,
   "id": "32abdeb1",
   "metadata": {},
   "outputs": [],
   "source": [
    "from sklearn.model_selection import train_test_split\n",
    "x_train, x_test, y_train, y_test = train_test_split(x, y, random_state=1000)"
   ]
  },
  {
   "cell_type": "code",
   "execution_count": 12,
   "id": "ba599dfb",
   "metadata": {},
   "outputs": [
    {
     "data": {
      "text/plain": [
       "Index(['Age', 'DailyRate', 'DistanceFromHome', 'Education',\n",
       "       'EnvironmentSatisfaction', 'HourlyRate', 'JobInvolvement', 'JobLevel',\n",
       "       'JobSatisfaction', 'MonthlyIncome', 'NumCompaniesWorked',\n",
       "       'PercentSalaryHike', 'PerformanceRating', 'RelationshipSatisfaction',\n",
       "       'StockOptionLevel', 'TotalWorkingYears', 'TrainingTimesLastYear',\n",
       "       'WorkLifeBalance', 'YearsAtCompany', 'YearsSinceLastPromotion',\n",
       "       'BusinessTravel_Travel_Frequently', 'BusinessTravel_Travel_Rarely',\n",
       "       'Department_Human Resources', 'Department_Research & Development',\n",
       "       'Department_Sales', 'Department_Software', 'Department_Support',\n",
       "       'EducationField_Life Sciences', 'EducationField_Marketing',\n",
       "       'EducationField_Medical', 'EducationField_Other',\n",
       "       'EducationField_Technical Degree', 'Gender_Male',\n",
       "       'JobRole_Healthcare Representative', 'JobRole_Human Resources',\n",
       "       'JobRole_Laboratory Technician', 'JobRole_Manager',\n",
       "       'JobRole_Manufacturing Director', 'JobRole_Research Director',\n",
       "       'JobRole_Research Scientist', 'JobRole_Sales Executive',\n",
       "       'JobRole_Sales Representative', 'MaritalStatus_Married',\n",
       "       'MaritalStatus_Single', 'OverTime_Yes'],\n",
       "      dtype='object')"
      ]
     },
     "execution_count": 12,
     "metadata": {},
     "output_type": "execute_result"
    }
   ],
   "source": [
    "x_train.columns"
   ]
  },
  {
   "cell_type": "code",
   "execution_count": 13,
   "id": "c41671f8",
   "metadata": {
    "scrolled": true
   },
   "outputs": [
    {
     "name": "stdout",
     "output_type": "stream",
     "text": [
      "<class 'pandas.core.frame.DataFrame'>\n",
      "Int64Index: 409665 entries, 190599 to 107955\n",
      "Data columns (total 45 columns):\n",
      " #   Column                             Non-Null Count   Dtype  \n",
      "---  ------                             --------------   -----  \n",
      " 0   Age                                409665 non-null  float64\n",
      " 1   DailyRate                          409665 non-null  float64\n",
      " 2   DistanceFromHome                   409665 non-null  float64\n",
      " 3   Education                          409665 non-null  float64\n",
      " 4   EnvironmentSatisfaction            409665 non-null  float64\n",
      " 5   HourlyRate                         409665 non-null  float64\n",
      " 6   JobInvolvement                     409665 non-null  float64\n",
      " 7   JobLevel                           409665 non-null  float64\n",
      " 8   JobSatisfaction                    409665 non-null  float64\n",
      " 9   MonthlyIncome                      409665 non-null  float64\n",
      " 10  NumCompaniesWorked                 409665 non-null  float64\n",
      " 11  PercentSalaryHike                  409665 non-null  float64\n",
      " 12  PerformanceRating                  409665 non-null  float64\n",
      " 13  RelationshipSatisfaction           409665 non-null  float64\n",
      " 14  StockOptionLevel                   409665 non-null  float64\n",
      " 15  TotalWorkingYears                  409665 non-null  float64\n",
      " 16  TrainingTimesLastYear              409665 non-null  float64\n",
      " 17  WorkLifeBalance                    409665 non-null  float64\n",
      " 18  YearsAtCompany                     409665 non-null  float64\n",
      " 19  YearsSinceLastPromotion            409665 non-null  float64\n",
      " 20  BusinessTravel_Travel_Frequently   409665 non-null  float64\n",
      " 21  BusinessTravel_Travel_Rarely       409665 non-null  float64\n",
      " 22  Department_Human Resources         409665 non-null  float64\n",
      " 23  Department_Research & Development  409665 non-null  float64\n",
      " 24  Department_Sales                   409665 non-null  float64\n",
      " 25  Department_Software                409665 non-null  float64\n",
      " 26  Department_Support                 409665 non-null  float64\n",
      " 27  EducationField_Life Sciences       409665 non-null  float64\n",
      " 28  EducationField_Marketing           409665 non-null  float64\n",
      " 29  EducationField_Medical             409665 non-null  float64\n",
      " 30  EducationField_Other               409665 non-null  float64\n",
      " 31  EducationField_Technical Degree    409665 non-null  float64\n",
      " 32  Gender_Male                        409665 non-null  float64\n",
      " 33  JobRole_Healthcare Representative  409665 non-null  float64\n",
      " 34  JobRole_Human Resources            409665 non-null  float64\n",
      " 35  JobRole_Laboratory Technician      409665 non-null  float64\n",
      " 36  JobRole_Manager                    409665 non-null  float64\n",
      " 37  JobRole_Manufacturing Director     409665 non-null  float64\n",
      " 38  JobRole_Research Director          409665 non-null  float64\n",
      " 39  JobRole_Research Scientist         409665 non-null  float64\n",
      " 40  JobRole_Sales Executive            409665 non-null  float64\n",
      " 41  JobRole_Sales Representative       409665 non-null  float64\n",
      " 42  MaritalStatus_Married              409665 non-null  float64\n",
      " 43  MaritalStatus_Single               409665 non-null  float64\n",
      " 44  OverTime_Yes                       409665 non-null  float64\n",
      "dtypes: float64(45)\n",
      "memory usage: 143.8 MB\n"
     ]
    }
   ],
   "source": [
    "x_train.info()"
   ]
  },
  {
   "cell_type": "markdown",
   "id": "ba998bf8",
   "metadata": {},
   "source": [
    "### Logistic Regression"
   ]
  },
  {
   "cell_type": "code",
   "execution_count": 14,
   "id": "1847c8eb",
   "metadata": {},
   "outputs": [
    {
     "data": {
      "text/plain": [
       "array([1, 0, 1, ..., 1, 1, 0])"
      ]
     },
     "execution_count": 14,
     "metadata": {},
     "output_type": "execute_result"
    }
   ],
   "source": [
    "lr = lg().fit(x_train,y_train)\n",
    "Pred1 = lr.predict(x_test)\n",
    "Pred1"
   ]
  },
  {
   "cell_type": "code",
   "execution_count": 15,
   "id": "8d7ecca5",
   "metadata": {},
   "outputs": [
    {
     "name": "stdout",
     "output_type": "stream",
     "text": [
      "Training Accuracy: 0.5035065236229602\n",
      "------------------------------------------------------------\n",
      "Testing Accuracy:\n",
      " 0.5012815255279885\n",
      "-------------------------------------------------\n",
      "Confusion Matrix:\n",
      " [[37000 31183]\n",
      " [36920 31453]]\n",
      "-------------------------------------------------\n",
      "Classsification Report:\n",
      "               precision    recall  f1-score   support\n",
      "\n",
      "           0       0.50      0.54      0.52     68183\n",
      "           1       0.50      0.46      0.48     68373\n",
      "\n",
      "    accuracy                           0.50    136556\n",
      "   macro avg       0.50      0.50      0.50    136556\n",
      "weighted avg       0.50      0.50      0.50    136556\n",
      "\n"
     ]
    }
   ],
   "source": [
    "print(\"Training Accuracy:\",lr.score(x_train,y_train))\n",
    "print(\"------------------------------------------------------------\")\n",
    "print(\"Testing Accuracy:\\n\" ,acs(y_test,Pred1))\n",
    "print(\"-------------------------------------------------\")\n",
    "print(\"Confusion Matrix:\\n\",  cm(y_test,Pred1))\n",
    "print(\"-------------------------------------------------\")\n",
    "print(\"Classsification Report:\\n\",cr(y_test,Pred1))"
   ]
  },
  {
   "cell_type": "markdown",
   "id": "09448b29",
   "metadata": {},
   "source": [
    "### Decision Tree"
   ]
  },
  {
   "cell_type": "code",
   "execution_count": 16,
   "id": "9b36b06b",
   "metadata": {},
   "outputs": [
    {
     "data": {
      "text/plain": [
       "array([1, 0, 1, ..., 1, 1, 1])"
      ]
     },
     "execution_count": 16,
     "metadata": {},
     "output_type": "execute_result"
    }
   ],
   "source": [
    "from sklearn.tree import DecisionTreeClassifier as dtc\n",
    "\n",
    "dt = dtc().fit(x_train,y_train)\n",
    "Pred2 = dt.predict(x_test)\n",
    "Pred2"
   ]
  },
  {
   "cell_type": "code",
   "execution_count": 17,
   "id": "e5a47ffc",
   "metadata": {},
   "outputs": [
    {
     "name": "stdout",
     "output_type": "stream",
     "text": [
      "Training Accuracy: 1.0\n",
      "------------------------------------------------------------\n",
      " Testing Accuracy:\n",
      " 0.5035663024693167\n",
      "-------------------------------------------------\n",
      "Confusion Matrix:\n",
      " [[34386 33797]\n",
      " [33994 34379]]\n",
      "-------------------------------------------------\n",
      "Classsification Report:\n",
      "               precision    recall  f1-score   support\n",
      "\n",
      "           0       0.50      0.50      0.50     68183\n",
      "           1       0.50      0.50      0.50     68373\n",
      "\n",
      "    accuracy                           0.50    136556\n",
      "   macro avg       0.50      0.50      0.50    136556\n",
      "weighted avg       0.50      0.50      0.50    136556\n",
      "\n"
     ]
    }
   ],
   "source": [
    "print(\"Training Accuracy:\",dt.score(x_train,y_train))\n",
    "print(\"------------------------------------------------------------\")\n",
    "print(\" Testing Accuracy:\\n\" ,acs(y_test,Pred2))\n",
    "print(\"-------------------------------------------------\")\n",
    "print(\"Confusion Matrix:\\n\",  cm(y_test,Pred2))\n",
    "print(\"-------------------------------------------------\")\n",
    "print(\"Classsification Report:\\n\",cr(y_test,Pred2))"
   ]
  },
  {
   "cell_type": "markdown",
   "id": "c05ef483",
   "metadata": {},
   "source": [
    "### Random Forest"
   ]
  },
  {
   "cell_type": "code",
   "execution_count": 18,
   "id": "6f63eb51",
   "metadata": {},
   "outputs": [],
   "source": [
    "from sklearn.ensemble import RandomForestClassifier as rfc"
   ]
  },
  {
   "cell_type": "code",
   "execution_count": 19,
   "id": "cb6573ef",
   "metadata": {
    "scrolled": false
   },
   "outputs": [
    {
     "data": {
      "text/plain": [
       "array([1, 0, 1, ..., 1, 0, 0])"
      ]
     },
     "execution_count": 19,
     "metadata": {},
     "output_type": "execute_result"
    }
   ],
   "source": [
    "from sklearn.ensemble import RandomForestClassifier as rfc\n",
    "rf = rfc(n_estimators=100,criterion='gini',\n",
    "    max_depth=100,\n",
    "    min_samples_split=200,\n",
    "    min_samples_leaf=100,\n",
    "    max_features='sqrt',\n",
    "    max_leaf_nodes=10,\n",
    "    n_jobs=-1,\n",
    "    random_state=204,\n",
    "    max_samples=None,).fit(x_train,y_train)\n",
    "Pred = rf.predict(x_test)\n",
    "Pred"
   ]
  },
  {
   "cell_type": "code",
   "execution_count": 20,
   "id": "cc370b9b",
   "metadata": {},
   "outputs": [
    {
     "name": "stdout",
     "output_type": "stream",
     "text": [
      "Training Accuracy: 0.5171786703770154\n",
      "------------------------------------------------------------\n",
      "Testing Accuracy:\n",
      " 0.49936289873751427\n",
      "-------------------------------------------------\n",
      "Confusion Matrix:\n",
      " [[46360 21823]\n",
      " [46542 21831]]\n",
      "-------------------------------------------------\n",
      "Classsification Report:\n",
      "               precision    recall  f1-score   support\n",
      "\n",
      "           0       0.50      0.68      0.58     68183\n",
      "           1       0.50      0.32      0.39     68373\n",
      "\n",
      "    accuracy                           0.50    136556\n",
      "   macro avg       0.50      0.50      0.48    136556\n",
      "weighted avg       0.50      0.50      0.48    136556\n",
      "\n"
     ]
    }
   ],
   "source": [
    "print(\"Training Accuracy:\",rf.score(x_train,y_train))\n",
    "print(\"------------------------------------------------------------\")\n",
    "print(\"Testing Accuracy:\\n\" ,acs(y_test,Pred))\n",
    "print(\"-------------------------------------------------\")\n",
    "print(\"Confusion Matrix:\\n\",  cm(y_test,Pred))\n",
    "print(\"-------------------------------------------------\")\n",
    "print(\"Classsification Report:\\n\",cr(y_test,Pred))"
   ]
  },
  {
   "cell_type": "code",
   "execution_count": 21,
   "id": "088b51e4",
   "metadata": {},
   "outputs": [
    {
     "data": {
      "text/plain": [
       "array([0.07322312, 0.1165607 , 0.06078846, 0.00808751, 0.03203906,\n",
       "       0.08046046, 0.02237971, 0.02389109, 0.00884565, 0.11899271,\n",
       "       0.03080029, 0.07861501, 0.0178847 , 0.01719745, 0.0166499 ,\n",
       "       0.05507872, 0.0255698 , 0.01608387, 0.04496489, 0.03265767,\n",
       "       0.00159038, 0.00657468, 0.0038074 , 0.        , 0.00273992,\n",
       "       0.01045284, 0.0063516 , 0.00464206, 0.00050005, 0.00775673,\n",
       "       0.0024269 , 0.00507934, 0.00621813, 0.01220626, 0.00099273,\n",
       "       0.00447659, 0.0064387 , 0.00269806, 0.00635137, 0.00190713,\n",
       "       0.00341003, 0.00476631, 0.00418489, 0.00629453, 0.00736258])"
      ]
     },
     "execution_count": 21,
     "metadata": {},
     "output_type": "execute_result"
    }
   ],
   "source": [
    " rf.feature_importances_"
   ]
  },
  {
   "cell_type": "code",
   "execution_count": 22,
   "id": "72974eb8",
   "metadata": {},
   "outputs": [
    {
     "data": {
      "text/plain": [
       "<BarContainer object of 45 artists>"
      ]
     },
     "execution_count": 22,
     "metadata": {},
     "output_type": "execute_result"
    },
    {
     "data": {
      "image/png": "[encoded data removed]",
      "text/plain": [
       "<Figure size 2000x3000 with 1 Axes>"
      ]
     },
     "metadata": {},
     "output_type": "display_data"
    }
   ],
   "source": [
    "import matplotlib.pyplot as plt\n",
    "plt.figure(figsize=(20,30))\n",
    "plt.barh(x.columns, rf.feature_importances_)"
   ]
  },
  {
   "cell_type": "markdown",
   "id": "8006317e",
   "metadata": {},
   "source": [
    "### GradientBoosting Classifier"
   ]
  },
  {
   "cell_type": "code",
   "execution_count": 23,
   "id": "9f477ef2",
   "metadata": {},
   "outputs": [],
   "source": [
    "from sklearn.ensemble import GradientBoostingClassifier"
   ]
  },
  {
   "cell_type": "code",
   "execution_count": 24,
   "id": "2cdce021",
   "metadata": {},
   "outputs": [],
   "source": [
    "gbr = GradientBoostingClassifier(n_estimators = 200, max_depth = 1, random_state = 100)"
   ]
  },
  {
   "cell_type": "code",
   "execution_count": 25,
   "id": "cb807e71",
   "metadata": {},
   "outputs": [
    {
     "data": {
      "text/plain": [
       "array([1, 0, 1, ..., 1, 1, 0])"
      ]
     },
     "execution_count": 25,
     "metadata": {},
     "output_type": "execute_result"
    }
   ],
   "source": [
    "gbr.fit(x_train,y_train)\n",
    "y_pred1=gbr.predict(x_test)\n",
    "y_pred1"
   ]
  },
  {
   "cell_type": "code",
   "execution_count": 26,
   "id": "3552a7c8",
   "metadata": {
    "scrolled": true
   },
   "outputs": [
    {
     "name": "stdout",
     "output_type": "stream",
     "text": [
      "Training Accuracy: 0.5057180867294009\n",
      "------------------------------------------------------------\n",
      "Testing Accuracy:\n",
      " 0.4998901549547438\n",
      "-------------------------------------------------\n",
      "Confusion Matrix:\n",
      " [[40827 27356]\n",
      " [40937 27436]]\n",
      "-------------------------------------------------\n",
      "Classsification Report:\n",
      "               precision    recall  f1-score   support\n",
      "\n",
      "           0       0.50      0.60      0.54     68183\n",
      "           1       0.50      0.40      0.45     68373\n",
      "\n",
      "    accuracy                           0.50    136556\n",
      "   macro avg       0.50      0.50      0.50    136556\n",
      "weighted avg       0.50      0.50      0.49    136556\n",
      "\n"
     ]
    }
   ],
   "source": [
    "print(\"Training Accuracy:\",gbr.score(x_train,y_train))\n",
    "print(\"------------------------------------------------------------\")\n",
    "print(\"Testing Accuracy:\\n\" ,acs(y_test,y_pred1))\n",
    "print(\"-------------------------------------------------\")\n",
    "print(\"Confusion Matrix:\\n\",  cm(y_test,y_pred1))\n",
    "print(\"-------------------------------------------------\")\n",
    "print(\"Classsification Report:\\n\",cr(y_test,y_pred1))"
   ]
  },
  {
   "cell_type": "markdown",
   "id": "082611dd",
   "metadata": {},
   "source": [
    "### XGBoost"
   ]
  },
  {
   "cell_type": "code",
   "execution_count": 27,
   "id": "5fc60d0b",
   "metadata": {},
   "outputs": [],
   "source": [
    "import xgboost as xgb"
   ]
  },
  {
   "cell_type": "code",
   "execution_count": 28,
   "id": "bc372f3b",
   "metadata": {},
   "outputs": [
    {
     "data": {
      "text/plain": [
       "array([1, 0, 0, ..., 1, 1, 0])"
      ]
     },
     "execution_count": 28,
     "metadata": {},
     "output_type": "execute_result"
    }
   ],
   "source": [
    "xgb1=xgb.XGBClassifier()\n",
    "xgb1.fit(x_train,y_train)\n",
    "predictions = xgb1.predict(x_test)\n",
    "predictions"
   ]
  },
  {
   "cell_type": "code",
   "execution_count": 29,
   "id": "8d0780b2",
   "metadata": {},
   "outputs": [
    {
     "name": "stdout",
     "output_type": "stream",
     "text": [
      "Training Accuracy: 0.5920227502959735\n",
      "------------------------------------------------------------\n",
      "Testing Accuracy:\n",
      " 0.5010764814435104\n",
      "-------------------------------------------------\n",
      "Confusion Matrix:\n",
      " [[34630 33553]\n",
      " [34578 33795]]\n",
      "-------------------------------------------------\n",
      "Classsification Report:\n",
      "               precision    recall  f1-score   support\n",
      "\n",
      "           0       0.50      0.51      0.50     68183\n",
      "           1       0.50      0.49      0.50     68373\n",
      "\n",
      "    accuracy                           0.50    136556\n",
      "   macro avg       0.50      0.50      0.50    136556\n",
      "weighted avg       0.50      0.50      0.50    136556\n",
      "\n"
     ]
    }
   ],
   "source": [
    "print(\"Training Accuracy:\",xgb1.score(x_train,y_train))\n",
    "print(\"------------------------------------------------------------\")\n",
    "print(\"Testing Accuracy:\\n\" ,acs(y_test,predictions))\n",
    "print(\"-------------------------------------------------\")\n",
    "print(\"Confusion Matrix:\\n\",  cm(y_test,predictions))\n",
    "print(\"-------------------------------------------------\")\n",
    "print(\"Classsification Report:\\n\",cr(y_test,predictions))"
   ]
  },
  {
   "cell_type": "markdown",
   "id": "1650c860",
   "metadata": {},
   "source": [
    "## CatBoost"
   ]
  },
  {
   "cell_type": "code",
   "execution_count": 30,
   "id": "c20f4286",
   "metadata": {},
   "outputs": [
    {
     "name": "stdout",
     "output_type": "stream",
     "text": [
      "CatBoost model is fitted: True\n",
      "CatBoost model parameters:\n",
      "{'iterations': 30000, 'learning_rate': 0.1}\n"
     ]
    },
    {
     "data": {
      "text/plain": [
       "array([0, 1, 1, ..., 1, 0, 0], dtype=int64)"
      ]
     },
     "execution_count": 30,
     "metadata": {},
     "output_type": "execute_result"
    }
   ],
   "source": [
    "from catboost import CatBoostClassifier\n",
    "\n",
    "clf = CatBoostClassifier(\n",
    "    iterations=30000, \n",
    "    learning_rate=0.1, \n",
    ")\n",
    "\n",
    "\n",
    "clf.fit(x_train, y_train, \n",
    "     \n",
    "        eval_set=(x_test, y_test), \n",
    "        verbose=False\n",
    ")\n",
    "\n",
    "print('CatBoost model is fitted: ' + str(clf.is_fitted()))\n",
    "print('CatBoost model parameters:')\n",
    "print(clf.get_params())\n",
    "p9=clf.predict(x_test)\n",
    "p9"
   ]
  },
  {
   "cell_type": "code",
   "execution_count": 31,
   "id": "1f3daf36",
   "metadata": {},
   "outputs": [
    {
     "name": "stdout",
     "output_type": "stream",
     "text": [
      "Training Accuracy: 0.9269940072986464\n",
      "------------------------------------------------------------\n",
      "Testing Accuracy:\n",
      " 0.6127596004569554\n",
      "-------------------------------------------------\n",
      "Confusion Matrix:\n",
      " [[41777 26406]\n",
      " [26474 41899]]\n",
      "-------------------------------------------------\n",
      "Classsification Report:\n",
      "               precision    recall  f1-score   support\n",
      "\n",
      "           0       0.61      0.61      0.61     68183\n",
      "           1       0.61      0.61      0.61     68373\n",
      "\n",
      "    accuracy                           0.61    136556\n",
      "   macro avg       0.61      0.61      0.61    136556\n",
      "weighted avg       0.61      0.61      0.61    136556\n",
      "\n"
     ]
    }
   ],
   "source": [
    "print(\"Training Accuracy:\",clf.score(x_train,y_train))\n",
    "print(\"------------------------------------------------------------\")\n",
    "print(\"Testing Accuracy:\\n\" ,acs(y_test,p9))\n",
    "print(\"-------------------------------------------------\")\n",
    "print(\"Confusion Matrix:\\n\",  cm(y_test,p9))\n",
    "print(\"-------------------------------------------------\")\n",
    "print(\"Classsification Report:\\n\",cr(y_test,p9))"
   ]
  },
  {
   "cell_type": "markdown",
   "id": "60de7d79",
   "metadata": {},
   "source": [
    "### LightGBM"
   ]
  },
  {
   "cell_type": "code",
   "execution_count": 14,
   "id": "0bea62ba",
   "metadata": {},
   "outputs": [
    {
     "name": "stdout",
     "output_type": "stream",
     "text": [
      "CPU times: total: 52min 16s\n",
      "Wall time: 15min 10s\n"
     ]
    },
    {
     "data": {
      "text/plain": [
       "array([0, 1, 1, ..., 1, 1, 1])"
      ]
     },
     "execution_count": 14,
     "metadata": {},
     "output_type": "execute_result"
    }
   ],
   "source": [
    "%%time\n",
    "from lightgbm import LGBMClassifier\n",
    "\n",
    "lgbm = LGBMClassifier(boosting_type='gbdt',\n",
    "    num_leaves=5000,\n",
    "    max_depth=-1,\n",
    "    learning_rate=0.1,\n",
    "    n_estimators=5000,\n",
    "    subsample_for_bin=200000,\n",
    "    objective='binary',\n",
    "    \n",
    "    min_child_samples=5000,\n",
    "\n",
    "    reg_alpha=0.9,\n",
    "    reg_lambda=0.9,\n",
    "metric='binary_logloss', #metric for binary classification\n",
    "    \n",
    "    n_jobs=-1,\n",
    "    silent=True,\n",
    "    importance_type='',\n",
    "    random_state=6)\n",
    "lgbm.fit(x_train, y_train)\n",
    "p8 = lgbm.predict(x_test)\n",
    "p8"
   ]
  },
  {
   "cell_type": "code",
   "execution_count": 15,
   "id": "2981c3f4",
   "metadata": {},
   "outputs": [
    {
     "data": {
      "text/plain": [
       "<AxesSubplot:>"
      ]
     },
     "execution_count": 15,
     "metadata": {},
     "output_type": "execute_result"
    },
    {
     "data": {
      "image/png": "[encoded data removed]",
      "text/plain": [
       "<Figure size 640x480 with 2 Axes>"
      ]
     },
     "metadata": {},
     "output_type": "display_data"
    }
   ],
   "source": [
    "cf_matrix=cm(y_test,p8)\n",
    "sns.heatmap(cf_matrix/np.sum(cf_matrix),annot=True,fmt=\".2%\",cmap=\"Blues\")"
   ]
  },
  {
   "cell_type": "code",
   "execution_count": 16,
   "id": "c166acce",
   "metadata": {},
   "outputs": [
    {
     "name": "stdout",
     "output_type": "stream",
     "text": [
      "Training Accuracy: 0.8539709274651239\n",
      "------------------------------------------------------------\n",
      "Testing Accuracy:\n",
      " 0.677004305925774\n",
      "-------------------------------------------------\n",
      "Confusion Matrix:\n",
      " [[46307 21876]\n",
      " [22231 46142]]\n",
      "-------------------------------------------------\n",
      "Classsification Report:\n",
      "               precision    recall  f1-score   support\n",
      "\n",
      "           0       0.68      0.68      0.68     68183\n",
      "           1       0.68      0.67      0.68     68373\n",
      "\n",
      "    accuracy                           0.68    136556\n",
      "   macro avg       0.68      0.68      0.68    136556\n",
      "weighted avg       0.68      0.68      0.68    136556\n",
      "\n"
     ]
    }
   ],
   "source": [
    "print(\"Training Accuracy:\",lgbm.score(x_train,y_train))\n",
    "print(\"------------------------------------------------------------\")\n",
    "print(\"Testing Accuracy:\\n\" ,acs(y_test,p8))\n",
    "print(\"-------------------------------------------------\")\n",
    "print(\"Confusion Matrix:\\n\",  cm(y_test,p8))\n",
    "print(\"-------------------------------------------------\")\n",
    "print(\"Classsification Report:\\n\",cr(y_test,p8))"
   ]
  },
  {
   "cell_type": "code",
   "execution_count": 38,
   "id": "ad8c4b26",
   "metadata": {},
   "outputs": [
    {
     "name": "stdout",
     "output_type": "stream",
     "text": [
      "[0.69423772 0.68822086 0.68362565 0.6871041  0.68296657]\n",
      "0.6872309797559178\n"
     ]
    }
   ],
   "source": [
    "from sklearn.model_selection import KFold\n",
    "from sklearn.model_selection import cross_val_score\n",
    "KFold_validation=KFold(5)\n",
    "results=cross_val_score(lgbm,x,y,cv=KFold_validation)\n",
    "print(results)\n",
    "print(np.mean(results))"
   ]
  },
  {
   "cell_type": "markdown",
   "id": "2cbbe316",
   "metadata": {},
   "source": [
    "### Naive Bayes Classifier"
   ]
  },
  {
   "cell_type": "code",
   "execution_count": 39,
   "id": "c899dfe4",
   "metadata": {},
   "outputs": [
    {
     "data": {
      "text/plain": [
       "array([0, 1, 1, ..., 1, 1, 1])"
      ]
     },
     "execution_count": 39,
     "metadata": {},
     "output_type": "execute_result"
    }
   ],
   "source": [
    "from sklearn.naive_bayes import GaussianNB\n",
    "nb=GaussianNB()\n",
    "nb.fit(x_train,y_train)\n",
    "y_pred2=nb.predict(x_test)\n",
    "y_pred2"
   ]
  },
  {
   "cell_type": "code",
   "execution_count": 40,
   "id": "9bb941cb",
   "metadata": {},
   "outputs": [
    {
     "name": "stdout",
     "output_type": "stream",
     "text": [
      "Training Accuracy: 0.5028474485250144\n",
      "------------------------------------------------------------\n",
      "Testing Accuracy:\n",
      " 0.5005126102111954\n",
      "-------------------------------------------------\n",
      "Confusion Matrix:\n",
      " [[35758 32425]\n",
      " [35783 32590]]\n",
      "-------------------------------------------------\n",
      "Classsification Report:\n",
      "               precision    recall  f1-score   support\n",
      "\n",
      "           0       0.50      0.52      0.51     68183\n",
      "           1       0.50      0.48      0.49     68373\n",
      "\n",
      "    accuracy                           0.50    136556\n",
      "   macro avg       0.50      0.50      0.50    136556\n",
      "weighted avg       0.50      0.50      0.50    136556\n",
      "\n"
     ]
    }
   ],
   "source": [
    "print(\"Training Accuracy:\",nb.score(x_train,y_train))\n",
    "print(\"------------------------------------------------------------\")\n",
    "print(\"Testing Accuracy:\\n\" ,acs(y_test,y_pred2))\n",
    "print(\"-------------------------------------------------\")\n",
    "print(\"Confusion Matrix:\\n\",  cm(y_test,y_pred2))\n",
    "print(\"-------------------------------------------------\")\n",
    "print(\"Classsification Report:\\n\",cr(y_test,y_pred2))"
   ]
  },
  {
   "cell_type": "markdown",
   "id": "65c94979",
   "metadata": {},
   "source": [
    "##### ROC AUC CURVE"
   ]
  },
  {
   "cell_type": "code",
   "execution_count": 65,
   "id": "ffe646fa",
   "metadata": {},
   "outputs": [],
   "source": [
    "from sklearn.metrics import roc_curve\n",
    "# roc curve for models\n",
    "fpr1, tpr1, thresh1 = roc_curve(y_test, Pred1[:,], pos_label=1)\n",
    "fpr2, tpr2, thresh2 = roc_curve(y_test, Pred2[:,], pos_label=1)\n",
    "fpr3, tpr3, thresh3 = roc_curve(y_test, Pred[:,], pos_label=1)\n",
    "fpr4, tpr4, thresh3 = roc_curve(y_test, y_pred1[:,], pos_label=1)\n",
    "fpr5, tpr5, thresh3 = roc_curve(y_test, predictions[:,], pos_label=1)\n",
    "fpr6, tpr6, thresh3 = roc_curve(y_test, p9[:,], pos_label=1)\n",
    "fpr7, tpr7, thresh3 = roc_curve(y_test, p8[:,], pos_label=1)\n",
    "fpr8, tpr8, thresh3 = roc_curve(y_test, y_pred2[:,], pos_label=1)\n",
    "# roc curve for tpr = fpr\n",
    "random_probs = [0 for i in range(len(y_test))]\n",
    "p_fpr, p_tpr, _ = roc_curve(y_test, random_probs, pos_label=1)"
   ]
  },
  {
   "cell_type": "code",
   "execution_count": 66,
   "id": "7e4f1160",
   "metadata": {},
   "outputs": [
    {
     "name": "stdout",
     "output_type": "stream",
     "text": [
      "0.5013390145197332 0.5035673486545024 0.49961379219439295 0.5000275640091801 0.5010859593259744 0.6127595436462228 0.6770072977391741 0.500545858010514\n"
     ]
    }
   ],
   "source": [
    "from sklearn.metrics import roc_auc_score\n",
    "# auc scores\n",
    "auc_score1 = roc_auc_score(y_test, Pred1[:,])\n",
    "auc_score2 = roc_auc_score(y_test, Pred2[:,])\n",
    "auc_score3 = roc_auc_score(y_test, Pred[:,])\n",
    "auc_score4 = roc_auc_score(y_test, y_pred1[:,])\n",
    "auc_score5 = roc_auc_score(y_test, predictions[:,])\n",
    "auc_score6 = roc_auc_score(y_test, p9[:,])\n",
    "auc_score7 = roc_auc_score(y_test, p8[:,])\n",
    "auc_score8 = roc_auc_score(y_test, y_pred2[:,])\n",
    "print(auc_score1, auc_score2,auc_score3,auc_score4,auc_score5,auc_score6,auc_score7,auc_score8)"
   ]
  },
  {
   "cell_type": "code",
   "execution_count": 67,
   "id": "2f179ddc",
   "metadata": {},
   "outputs": [
    {
     "data": {
      "image/png": "[encoded data removed]",
      "text/plain": [
       "<Figure size 800x550 with 1 Axes>"
      ]
     },
     "metadata": {},
     "output_type": "display_data"
    }
   ],
   "source": [
    "import matplotlib.pyplot as plt\n",
    "plt.style.use('seaborn')\n",
    "# plot roc curves\n",
    "plt.plot(fpr1, tpr1, linestyle='--',color='orange', label='Logistic Regression')\n",
    "plt.plot(fpr2, tpr2, linestyle='--',color='green', label='DecisionTreeClassifier')\n",
    "plt.plot(fpr3, tpr3, linestyle='--',color='pink', label='RandomForestClassifier')\n",
    "plt.plot(fpr4, tpr4, linestyle='--',color='cyan', label='Gradient Boosting')\n",
    "plt.plot(fpr5, tpr5, linestyle='--',color='red', label='XGBoost')\n",
    "plt.plot(fpr6, tpr6, linestyle='--',color='yellow', label='CatBoost')\n",
    "plt.plot(fpr7, tpr7, linestyle='--',color='yellow', label='LightGBM')\n",
    "plt.plot(fpr8, tpr8, linestyle='--',color='yellow', label='NaiveBayesClassifier')\n",
    "plt.plot(p_fpr, p_tpr, linestyle='--', color='blue')\n",
    "# title\n",
    "plt.title('ROC curve')\n",
    "# x label\n",
    "plt.xlabel('False Positive Rate')\n",
    "# y label\n",
    "plt.ylabel('True Positive rate')\n",
    "plt.legend(loc='best')\n",
    "plt.savefig('ROC',dpi=300)\n",
    "plt.show();"
   ]
  },
  {
   "cell_type": "markdown",
   "id": "22073b7a",
   "metadata": {},
   "source": [
    "### ANN"
   ]
  },
  {
   "cell_type": "code",
   "execution_count": 44,
   "id": "51d8c9fd",
   "metadata": {},
   "outputs": [],
   "source": [
    "from keras.models import Sequential\n",
    "from keras .layers import Dense"
   ]
  },
  {
   "cell_type": "code",
   "execution_count": 45,
   "id": "ec5a48fe",
   "metadata": {},
   "outputs": [],
   "source": [
    "classifier=Sequential()"
   ]
  },
  {
   "cell_type": "code",
   "execution_count": 46,
   "id": "fed29bc7",
   "metadata": {},
   "outputs": [],
   "source": [
    "classifier.add(Dense(activation=\"relu\",input_dim=45,units=200,kernel_initializer=\"uniform\"))"
   ]
  },
  {
   "cell_type": "code",
   "execution_count": 47,
   "id": "cf872233",
   "metadata": {},
   "outputs": [],
   "source": [
    "classifier.add(Dense(activation=\"relu\",units=200,kernel_initializer=\"uniform\"))"
   ]
  },
  {
   "cell_type": "code",
   "execution_count": 48,
   "id": "c07e38bc",
   "metadata": {},
   "outputs": [],
   "source": [
    "classifier.add(Dense(1,activation=\"sigmoid\"))"
   ]
  },
  {
   "cell_type": "code",
   "execution_count": 49,
   "id": "c3d26f18",
   "metadata": {},
   "outputs": [],
   "source": [
    "classifier.compile(optimizer=\"adam\",loss=\"binary_crossentropy\",metrics=[\"accuracy\"])"
   ]
  },
  {
   "cell_type": "code",
   "execution_count": 50,
   "id": "bdeb110b",
   "metadata": {},
   "outputs": [],
   "source": [
    "import tensorflow as tf\n",
    "early_stopping =tf.keras.callbacks.EarlyStopping(\n",
    "    monitor=\"val_loss\",\n",
    "    min_delta=0.001,\n",
    "    patience=10,\n",
    "    verbose=1,\n",
    "    mode=\"auto\",\n",
    "    baseline=None,\n",
    "    restore_best_weights=False)"
   ]
  },
  {
   "cell_type": "code",
   "execution_count": 51,
   "id": "bbf516f5",
   "metadata": {
    "scrolled": true
   },
   "outputs": [
    {
     "name": "stdout",
     "output_type": "stream",
     "text": [
      "Epoch 1/100\n",
      "3278/3278 [==============================] - 32s 9ms/step - loss: 0.6932 - accuracy: 0.5000 - val_loss: 0.6932 - val_accuracy: 0.4995\n",
      "Epoch 2/100\n",
      "3278/3278 [==============================] - 31s 9ms/step - loss: 0.6932 - accuracy: 0.4991 - val_loss: 0.6932 - val_accuracy: 0.5005\n",
      "Epoch 3/100\n",
      "3278/3278 [==============================] - 37s 11ms/step - loss: 0.6932 - accuracy: 0.4986 - val_loss: 0.6932 - val_accuracy: 0.5002\n",
      "Epoch 4/100\n",
      "3278/3278 [==============================] - 26s 8ms/step - loss: 0.6932 - accuracy: 0.5003 - val_loss: 0.6932 - val_accuracy: 0.4995\n",
      "Epoch 5/100\n",
      "3278/3278 [==============================] - 25s 8ms/step - loss: 0.6932 - accuracy: 0.4995 - val_loss: 0.6932 - val_accuracy: 0.5008\n",
      "Epoch 6/100\n",
      "3278/3278 [==============================] - 24s 7ms/step - loss: 0.6932 - accuracy: 0.4999 - val_loss: 0.6932 - val_accuracy: 0.4991\n",
      "Epoch 7/100\n",
      "3278/3278 [==============================] - 29s 9ms/step - loss: 0.6932 - accuracy: 0.5019 - val_loss: 0.6932 - val_accuracy: 0.4999\n",
      "Epoch 8/100\n",
      "3278/3278 [==============================] - 29s 9ms/step - loss: 0.6931 - accuracy: 0.5027 - val_loss: 0.6932 - val_accuracy: 0.5007\n",
      "Epoch 9/100\n",
      "3278/3278 [==============================] - 26s 8ms/step - loss: 0.6931 - accuracy: 0.5039 - val_loss: 0.6932 - val_accuracy: 0.5002\n",
      "Epoch 10/100\n",
      "3278/3278 [==============================] - 25s 8ms/step - loss: 0.6931 - accuracy: 0.5044 - val_loss: 0.6932 - val_accuracy: 0.4999\n",
      "Epoch 11/100\n",
      "3278/3278 [==============================] - 26s 8ms/step - loss: 0.6930 - accuracy: 0.5061 - val_loss: 0.6933 - val_accuracy: 0.4989\n",
      "Epoch 11: early stopping\n"
     ]
    }
   ],
   "source": [
    "model_history=classifier.fit(x_train,y_train,validation_split=0.20,batch_size =100,epochs =100,callbacks=early_stopping)"
   ]
  },
  {
   "cell_type": "code",
   "execution_count": 52,
   "id": "ae56f6eb",
   "metadata": {},
   "outputs": [
    {
     "data": {
      "text/plain": [
       "<lightgbm.basic.Booster at 0x1e6346254c0>"
      ]
     },
     "execution_count": 52,
     "metadata": {},
     "output_type": "execute_result"
    }
   ],
   "source": [
    "lgbm.booster_.save_model(\"lgbm1.json\")"
   ]
  }
 ],
 "metadata": {
  "kernelspec": {
   "display_name": "Python 3 (ipykernel)",
   "language": "python",
   "name": "python3"
  },
  "language_info": {
   "codemirror_mode": {
    "name": "ipython",
    "version": 3
   },
   "file_extension": ".py",
   "mimetype": "text/x-python",
   "name": "python",
   "nbconvert_exporter": "python",
   "pygments_lexer": "ipython3",
   "version": "3.9.12"
  }
 },
 "nbformat": 4,
 "nbformat_minor": 5
}
